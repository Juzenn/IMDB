{
 "cells": [
  {
   "cell_type": "code",
   "execution_count": 2,
   "metadata": {
    "collapsed": false
   },
   "outputs": [
    {
     "name": "stdout",
     "output_type": "stream",
     "text": [
      "Read 25000 labeled train reviews, 25000 labeled test reviews, and 50000 unlabeled reviews\n",
      "\n"
     ]
    }
   ],
   "source": [
    "import pandas as pd\n",
    "\n",
    "# Read data from files \n",
    "train = pd.read_csv( \"./data/labeledTrainData.tsv\", header=0, \n",
    " delimiter=\"\\t\", quoting=3 )\n",
    "test = pd.read_csv( \"./data/testData.tsv\", header=0, delimiter=\"\\t\", quoting=3 )\n",
    "unlabeled_train = pd.read_csv( \"./data/unlabeledTrainData.tsv\", header=0, \n",
    " delimiter=\"\\t\", quoting=3 )\n",
    "\n",
    "# Verify the number of reviews that were read (100,000 in total)\n",
    "print(\"Read %d labeled train reviews, %d labeled test reviews, \" \\\n",
    " \"and %d unlabeled reviews\\n\" % (train[\"review\"].size,  \n",
    " test[\"review\"].size, unlabeled_train[\"review\"].size ))"
   ]
  },
  {
   "cell_type": "code",
   "execution_count": 3,
   "metadata": {
    "collapsed": false
   },
   "outputs": [
    {
     "name": "stdout",
     "output_type": "stream",
     "text": [
      "showing info https://raw.githubusercontent.com/nltk/nltk_data/gh-pages/index.xml\n",
      "Parsing sentences from training set\n"
     ]
    },
    {
     "name": "stderr",
     "output_type": "stream",
     "text": [
      "C:\\ProgramData\\Anaconda3\\lib\\site-packages\\bs4\\__init__.py:181: UserWarning: No parser was explicitly specified, so I'm using the best available HTML parser for this system (\"lxml\"). This usually isn't a problem, but if you run this code on another system, or in a different virtual environment, it may use a different parser and behave differently.\n",
      "\n",
      "The code that caused this warning is on line 193 of the file C:\\ProgramData\\Anaconda3\\lib\\runpy.py. To get rid of this warning, change code that looks like this:\n",
      "\n",
      " BeautifulSoup([your markup])\n",
      "\n",
      "to this:\n",
      "\n",
      " BeautifulSoup([your markup], \"lxml\")\n",
      "\n",
      "  markup_type=markup_type))\n",
      "C:\\ProgramData\\Anaconda3\\lib\\site-packages\\bs4\\__init__.py:219: UserWarning: \"b'.'\" looks like a filename, not markup. You shouldprobably open this file and pass the filehandle intoBeautiful Soup.\n",
      "  'Beautiful Soup.' % markup)\n",
      "C:\\ProgramData\\Anaconda3\\lib\\site-packages\\bs4\\__init__.py:219: UserWarning: \"b'...'\" looks like a filename, not markup. You shouldprobably open this file and pass the filehandle intoBeautiful Soup.\n",
      "  'Beautiful Soup.' % markup)\n",
      "C:\\ProgramData\\Anaconda3\\lib\\site-packages\\bs4\\__init__.py:282: UserWarning: \"http://www.happierabroad.com\"\" looks like a URL. Beautiful Soup is not an HTTP client. You should probably use an HTTP client like requests to get the document behind the URL, and feed that document to Beautiful Soup.\n",
      "  ' that document to Beautiful Soup.' % decoded_markup\n"
     ]
    },
    {
     "name": "stdout",
     "output_type": "stream",
     "text": [
      "Parsing sentences from unlabeled set\n"
     ]
    },
    {
     "name": "stderr",
     "output_type": "stream",
     "text": [
      "C:\\ProgramData\\Anaconda3\\lib\\site-packages\\bs4\\__init__.py:282: UserWarning: \"http://www.archive.org/details/LovefromaStranger\"\" looks like a URL. Beautiful Soup is not an HTTP client. You should probably use an HTTP client like requests to get the document behind the URL, and feed that document to Beautiful Soup.\n",
      "  ' that document to Beautiful Soup.' % decoded_markup\n",
      "C:\\ProgramData\\Anaconda3\\lib\\site-packages\\bs4\\__init__.py:282: UserWarning: \"http://www.loosechangeguide.com/LooseChangeGuide.html\"\" looks like a URL. Beautiful Soup is not an HTTP client. You should probably use an HTTP client like requests to get the document behind the URL, and feed that document to Beautiful Soup.\n",
      "  ' that document to Beautiful Soup.' % decoded_markup\n",
      "C:\\ProgramData\\Anaconda3\\lib\\site-packages\\bs4\\__init__.py:219: UserWarning: \"b'... ...'\" looks like a filename, not markup. You shouldprobably open this file and pass the filehandle intoBeautiful Soup.\n",
      "  'Beautiful Soup.' % markup)\n",
      "C:\\ProgramData\\Anaconda3\\lib\\site-packages\\bs4\\__init__.py:219: UserWarning: \"b'....'\" looks like a filename, not markup. You shouldprobably open this file and pass the filehandle intoBeautiful Soup.\n",
      "  'Beautiful Soup.' % markup)\n",
      "C:\\ProgramData\\Anaconda3\\lib\\site-packages\\bs4\\__init__.py:282: UserWarning: \"http://www.msnbc.msn.com/id/4972055/site/newsweek/\"\" looks like a URL. Beautiful Soup is not an HTTP client. You should probably use an HTTP client like requests to get the document behind the URL, and feed that document to Beautiful Soup.\n",
      "  ' that document to Beautiful Soup.' % decoded_markup\n",
      "C:\\ProgramData\\Anaconda3\\lib\\site-packages\\bs4\\__init__.py:219: UserWarning: \"b'..'\" looks like a filename, not markup. You shouldprobably open this file and pass the filehandle intoBeautiful Soup.\n",
      "  'Beautiful Soup.' % markup)\n",
      "C:\\ProgramData\\Anaconda3\\lib\\site-packages\\bs4\\__init__.py:282: UserWarning: \"http://www.youtube.com/watch?v=a0KSqelmgN8\"\" looks like a URL. Beautiful Soup is not an HTTP client. You should probably use an HTTP client like requests to get the document behind the URL, and feed that document to Beautiful Soup.\n",
      "  ' that document to Beautiful Soup.' % decoded_markup\n",
      "C:\\ProgramData\\Anaconda3\\lib\\site-packages\\bs4\\__init__.py:219: UserWarning: \"b'.. .'\" looks like a filename, not markup. You shouldprobably open this file and pass the filehandle intoBeautiful Soup.\n",
      "  'Beautiful Soup.' % markup)\n",
      "C:\\ProgramData\\Anaconda3\\lib\\site-packages\\bs4\\__init__.py:282: UserWarning: \"http://jake-weird.blogspot.com/2007/08/beneath.html\"\" looks like a URL. Beautiful Soup is not an HTTP client. You should probably use an HTTP client like requests to get the document behind the URL, and feed that document to Beautiful Soup.\n",
      "  ' that document to Beautiful Soup.' % decoded_markup\n"
     ]
    }
   ],
   "source": [
    "# Import various modules for string cleaning\n",
    "from bs4 import BeautifulSoup\n",
    "import re\n",
    "from nltk.corpus import stopwords\n",
    "\n",
    "def review_to_wordlist( review, remove_stopwords=False ):\n",
    "    # Function to convert a document to a sequence of words,\n",
    "    # optionally removing stop words.  Returns a list of words.\n",
    "    #\n",
    "    # 1. Remove HTML\n",
    "    review_text = BeautifulSoup(review).get_text()\n",
    "    #  \n",
    "    # 2. Remove non-letters\n",
    "    review_text = re.sub(\"[^a-zA-Z]\",\" \", review_text)\n",
    "    #\n",
    "    # 3. Convert words to lower case and split them\n",
    "    words = review_text.lower().split()\n",
    "    #\n",
    "    # 4. Optionally remove stop words (false by default)\n",
    "    if remove_stopwords:\n",
    "        stops = set(stopwords.words(\"english\"))\n",
    "        words = [w for w in words if not w in stops]\n",
    "    #\n",
    "    # 5. Return a list of words\n",
    "    return(words)\n",
    "# Download the punkt tokenizer for sentence splitting\n",
    "import nltk.data\n",
    "nltk.download()   \n",
    "\n",
    "# Load the punkt tokenizer\n",
    "tokenizer = nltk.data.load('tokenizers/punkt/english.pickle')\n",
    "\n",
    "# Define a function to split a review into parsed sentences\n",
    "def review_to_sentences( review, tokenizer, remove_stopwords=False ):\n",
    "    # Function to split a review into parsed sentences. Returns a \n",
    "    # list of sentences, where each sentence is a list of words\n",
    "    #\n",
    "    # 1. Use the NLTK tokenizer to split the paragraph into sentences\n",
    "    raw_sentences = tokenizer.tokenize(review.strip())\n",
    "    #\n",
    "    # 2. Loop over each sentence\n",
    "    sentences = []\n",
    "    for raw_sentence in raw_sentences:\n",
    "        # If a sentence is empty, skip it\n",
    "        if len(raw_sentence) > 0:\n",
    "            # Otherwise, call review_to_wordlist to get a list of words\n",
    "            sentences.append( review_to_wordlist( raw_sentence, \\\n",
    "              remove_stopwords ))\n",
    "    #\n",
    "    # Return the list of sentences (each sentence is a list of words,\n",
    "    # so this returns a list of lists\n",
    "    return sentences\n",
    "sentences = []  # Initialize an empty list of sentences\n",
    "\n",
    "print(\"Parsing sentences from training set\")\n",
    "for review in train[\"review\"]:\n",
    "    sentences += review_to_sentences(review, tokenizer)\n",
    "\n",
    "print(\"Parsing sentences from unlabeled set\")\n",
    "for review in unlabeled_train[\"review\"]:\n",
    "    sentences += review_to_sentences(review, tokenizer)"
   ]
  },
  {
   "cell_type": "code",
   "execution_count": 4,
   "metadata": {
    "collapsed": false
   },
   "outputs": [
    {
     "name": "stdout",
     "output_type": "stream",
     "text": [
      "795538\n",
      "['with', 'all', 'this', 'stuff', 'going', 'down', 'at', 'the', 'moment', 'with', 'mj', 'i', 've', 'started', 'listening', 'to', 'his', 'music', 'watching', 'the', 'odd', 'documentary', 'here', 'and', 'there', 'watched', 'the', 'wiz', 'and', 'watched', 'moonwalker', 'again']\n",
      "['maybe', 'i', 'just', 'want', 'to', 'get', 'a', 'certain', 'insight', 'into', 'this', 'guy', 'who', 'i', 'thought', 'was', 'really', 'cool', 'in', 'the', 'eighties', 'just', 'to', 'maybe', 'make', 'up', 'my', 'mind', 'whether', 'he', 'is', 'guilty', 'or', 'innocent']\n"
     ]
    }
   ],
   "source": [
    "print(len(sentences))\n",
    "print(sentences[0])\n",
    "print(sentences[1])"
   ]
  },
  {
   "cell_type": "code",
   "execution_count": 5,
   "metadata": {
    "collapsed": false,
    "scrolled": true
   },
   "outputs": [
    {
     "name": "stderr",
     "output_type": "stream",
     "text": [
      "C:\\ProgramData\\Anaconda3\\lib\\site-packages\\gensim\\utils.py:860: UserWarning: detected Windows; aliasing chunkize to chunkize_serial\n",
      "  warnings.warn(\"detected Windows; aliasing chunkize to chunkize_serial\")\n",
      "2017-12-14 23:41:17,766 : INFO : 'pattern' package not found; tag filters are not available for English\n",
      "2017-12-14 23:41:17,777 : INFO : collecting all words and their counts\n",
      "2017-12-14 23:41:17,778 : INFO : PROGRESS: at sentence #0, processed 0 words, keeping 0 word types\n",
      "2017-12-14 23:41:17,854 : INFO : PROGRESS: at sentence #10000, processed 225803 words, keeping 17776 word types\n",
      "2017-12-14 23:41:17,922 : INFO : PROGRESS: at sentence #20000, processed 451892 words, keeping 24948 word types\n"
     ]
    },
    {
     "name": "stdout",
     "output_type": "stream",
     "text": [
      "Training model...\n"
     ]
    },
    {
     "name": "stderr",
     "output_type": "stream",
     "text": [
      "2017-12-14 23:41:17,991 : INFO : PROGRESS: at sentence #30000, processed 671315 words, keeping 30034 word types\n",
      "2017-12-14 23:41:18,066 : INFO : PROGRESS: at sentence #40000, processed 897815 words, keeping 34348 word types\n",
      "2017-12-14 23:41:18,153 : INFO : PROGRESS: at sentence #50000, processed 1116963 words, keeping 37761 word types\n",
      "2017-12-14 23:41:18,240 : INFO : PROGRESS: at sentence #60000, processed 1338404 words, keeping 40723 word types\n",
      "2017-12-14 23:41:18,322 : INFO : PROGRESS: at sentence #70000, processed 1561580 words, keeping 43333 word types\n",
      "2017-12-14 23:41:18,383 : INFO : PROGRESS: at sentence #80000, processed 1780887 words, keeping 45714 word types\n",
      "2017-12-14 23:41:18,454 : INFO : PROGRESS: at sentence #90000, processed 2004996 words, keeping 48135 word types\n",
      "2017-12-14 23:41:18,521 : INFO : PROGRESS: at sentence #100000, processed 2226966 words, keeping 50207 word types\n",
      "2017-12-14 23:41:18,610 : INFO : PROGRESS: at sentence #110000, processed 2446580 words, keeping 52081 word types\n",
      "2017-12-14 23:41:18,710 : INFO : PROGRESS: at sentence #120000, processed 2668775 words, keeping 54119 word types\n",
      "2017-12-14 23:41:18,801 : INFO : PROGRESS: at sentence #130000, processed 2894303 words, keeping 55847 word types\n",
      "2017-12-14 23:41:18,863 : INFO : PROGRESS: at sentence #140000, processed 3107005 words, keeping 57346 word types\n",
      "2017-12-14 23:41:18,931 : INFO : PROGRESS: at sentence #150000, processed 3332627 words, keeping 59055 word types\n",
      "2017-12-14 23:41:18,998 : INFO : PROGRESS: at sentence #160000, processed 3555315 words, keeping 60617 word types\n",
      "2017-12-14 23:41:19,062 : INFO : PROGRESS: at sentence #170000, processed 3778655 words, keeping 62077 word types\n",
      "2017-12-14 23:41:19,124 : INFO : PROGRESS: at sentence #180000, processed 3999236 words, keeping 63496 word types\n",
      "2017-12-14 23:41:19,188 : INFO : PROGRESS: at sentence #190000, processed 4224449 words, keeping 64794 word types\n",
      "2017-12-14 23:41:19,252 : INFO : PROGRESS: at sentence #200000, processed 4448603 words, keeping 66087 word types\n",
      "2017-12-14 23:41:19,316 : INFO : PROGRESS: at sentence #210000, processed 4669967 words, keeping 67390 word types\n",
      "2017-12-14 23:41:19,383 : INFO : PROGRESS: at sentence #220000, processed 4894968 words, keeping 68697 word types\n",
      "2017-12-14 23:41:19,443 : INFO : PROGRESS: at sentence #230000, processed 5117545 words, keeping 69958 word types\n",
      "2017-12-14 23:41:19,513 : INFO : PROGRESS: at sentence #240000, processed 5345050 words, keeping 71167 word types\n",
      "2017-12-14 23:41:19,576 : INFO : PROGRESS: at sentence #250000, processed 5559165 words, keeping 72351 word types\n",
      "2017-12-14 23:41:19,628 : INFO : PROGRESS: at sentence #260000, processed 5779146 words, keeping 73478 word types\n",
      "2017-12-14 23:41:19,691 : INFO : PROGRESS: at sentence #270000, processed 6000435 words, keeping 74767 word types\n",
      "2017-12-14 23:41:19,766 : INFO : PROGRESS: at sentence #280000, processed 6226314 words, keeping 76369 word types\n",
      "2017-12-14 23:41:19,841 : INFO : PROGRESS: at sentence #290000, processed 6449474 words, keeping 77839 word types\n",
      "2017-12-14 23:41:19,965 : INFO : PROGRESS: at sentence #300000, processed 6674077 words, keeping 79171 word types\n",
      "2017-12-14 23:41:20,120 : INFO : PROGRESS: at sentence #310000, processed 6899391 words, keeping 80480 word types\n",
      "2017-12-14 23:41:20,191 : INFO : PROGRESS: at sentence #320000, processed 7124278 words, keeping 81808 word types\n",
      "2017-12-14 23:41:20,253 : INFO : PROGRESS: at sentence #330000, processed 7346021 words, keeping 83030 word types\n",
      "2017-12-14 23:41:20,324 : INFO : PROGRESS: at sentence #340000, processed 7575533 words, keeping 84280 word types\n",
      "2017-12-14 23:41:20,410 : INFO : PROGRESS: at sentence #350000, processed 7798803 words, keeping 85425 word types\n",
      "2017-12-14 23:41:20,529 : INFO : PROGRESS: at sentence #360000, processed 8019427 words, keeping 86596 word types\n",
      "2017-12-14 23:41:20,655 : INFO : PROGRESS: at sentence #370000, processed 8246619 words, keeping 87708 word types\n",
      "2017-12-14 23:41:20,721 : INFO : PROGRESS: at sentence #380000, processed 8471766 words, keeping 88878 word types\n",
      "2017-12-14 23:41:20,789 : INFO : PROGRESS: at sentence #390000, processed 8701497 words, keeping 89907 word types\n",
      "2017-12-14 23:41:20,855 : INFO : PROGRESS: at sentence #400000, processed 8924446 words, keeping 90916 word types\n",
      "2017-12-14 23:41:20,919 : INFO : PROGRESS: at sentence #410000, processed 9145796 words, keeping 91880 word types\n",
      "2017-12-14 23:41:20,984 : INFO : PROGRESS: at sentence #420000, processed 9366876 words, keeping 92912 word types\n",
      "2017-12-14 23:41:21,050 : INFO : PROGRESS: at sentence #430000, processed 9594413 words, keeping 93932 word types\n",
      "2017-12-14 23:41:21,117 : INFO : PROGRESS: at sentence #440000, processed 9821166 words, keeping 94906 word types\n",
      "2017-12-14 23:41:21,183 : INFO : PROGRESS: at sentence #450000, processed 10044928 words, keeping 96036 word types\n",
      "2017-12-14 23:41:21,250 : INFO : PROGRESS: at sentence #460000, processed 10277688 words, keeping 97088 word types\n",
      "2017-12-14 23:41:21,315 : INFO : PROGRESS: at sentence #470000, processed 10505613 words, keeping 97933 word types\n",
      "2017-12-14 23:41:21,385 : INFO : PROGRESS: at sentence #480000, processed 10725997 words, keeping 98862 word types\n",
      "2017-12-14 23:41:21,466 : INFO : PROGRESS: at sentence #490000, processed 10952741 words, keeping 99871 word types\n",
      "2017-12-14 23:41:21,529 : INFO : PROGRESS: at sentence #500000, processed 11174397 words, keeping 100765 word types\n",
      "2017-12-14 23:41:21,601 : INFO : PROGRESS: at sentence #510000, processed 11399672 words, keeping 101699 word types\n",
      "2017-12-14 23:41:21,664 : INFO : PROGRESS: at sentence #520000, processed 11623020 words, keeping 102598 word types\n",
      "2017-12-14 23:41:21,742 : INFO : PROGRESS: at sentence #530000, processed 11847418 words, keeping 103400 word types\n",
      "2017-12-14 23:41:21,806 : INFO : PROGRESS: at sentence #540000, processed 12072033 words, keeping 104265 word types\n",
      "2017-12-14 23:41:21,890 : INFO : PROGRESS: at sentence #550000, processed 12297571 words, keeping 105133 word types\n",
      "2017-12-14 23:41:21,960 : INFO : PROGRESS: at sentence #560000, processed 12518861 words, keeping 105997 word types\n",
      "2017-12-14 23:41:22,031 : INFO : PROGRESS: at sentence #570000, processed 12747916 words, keeping 106787 word types\n",
      "2017-12-14 23:41:22,100 : INFO : PROGRESS: at sentence #580000, processed 12969412 words, keeping 107665 word types\n",
      "2017-12-14 23:41:22,168 : INFO : PROGRESS: at sentence #590000, processed 13194937 words, keeping 108501 word types\n",
      "2017-12-14 23:41:22,245 : INFO : PROGRESS: at sentence #600000, processed 13417135 words, keeping 109218 word types\n",
      "2017-12-14 23:41:22,313 : INFO : PROGRESS: at sentence #610000, processed 13638158 words, keeping 110092 word types\n",
      "2017-12-14 23:41:22,377 : INFO : PROGRESS: at sentence #620000, processed 13864483 words, keeping 110837 word types\n",
      "2017-12-14 23:41:22,453 : INFO : PROGRESS: at sentence #630000, processed 14088769 words, keeping 111610 word types\n",
      "2017-12-14 23:41:22,516 : INFO : PROGRESS: at sentence #640000, processed 14309552 words, keeping 112416 word types\n",
      "2017-12-14 23:41:22,592 : INFO : PROGRESS: at sentence #650000, processed 14535308 words, keeping 113196 word types\n",
      "2017-12-14 23:41:22,662 : INFO : PROGRESS: at sentence #660000, processed 14758098 words, keeping 113945 word types\n",
      "2017-12-14 23:41:22,725 : INFO : PROGRESS: at sentence #670000, processed 14981482 words, keeping 114643 word types\n",
      "2017-12-14 23:41:22,808 : INFO : PROGRESS: at sentence #680000, processed 15206314 words, keeping 115354 word types\n",
      "2017-12-14 23:41:22,873 : INFO : PROGRESS: at sentence #690000, processed 15428507 words, keeping 116131 word types\n",
      "2017-12-14 23:41:22,953 : INFO : PROGRESS: at sentence #700000, processed 15657213 words, keeping 116943 word types\n",
      "2017-12-14 23:41:23,034 : INFO : PROGRESS: at sentence #710000, processed 15880202 words, keeping 117596 word types\n",
      "2017-12-14 23:41:23,110 : INFO : PROGRESS: at sentence #720000, processed 16105489 words, keeping 118221 word types\n",
      "2017-12-14 23:41:23,174 : INFO : PROGRESS: at sentence #730000, processed 16331870 words, keeping 118954 word types\n",
      "2017-12-14 23:41:23,236 : INFO : PROGRESS: at sentence #740000, processed 16552903 words, keeping 119668 word types\n",
      "2017-12-14 23:41:23,307 : INFO : PROGRESS: at sentence #750000, processed 16771230 words, keeping 120295 word types\n",
      "2017-12-14 23:41:23,370 : INFO : PROGRESS: at sentence #760000, processed 16990622 words, keeping 120930 word types\n",
      "2017-12-14 23:41:23,435 : INFO : PROGRESS: at sentence #770000, processed 17217759 words, keeping 121703 word types\n",
      "2017-12-14 23:41:23,506 : INFO : PROGRESS: at sentence #780000, processed 17447905 words, keeping 122402 word types\n",
      "2017-12-14 23:41:23,574 : INFO : PROGRESS: at sentence #790000, processed 17674981 words, keeping 123066 word types\n",
      "2017-12-14 23:41:23,612 : INFO : collected 123504 word types from a corpus of 17798082 raw words and 795538 sentences\n",
      "2017-12-14 23:41:23,614 : INFO : Loading a fresh vocabulary\n",
      "2017-12-14 23:41:23,699 : INFO : min_count=40 retains 16490 unique words (13% of original 123504, drops 107014)\n",
      "2017-12-14 23:41:23,700 : INFO : min_count=40 leaves 17238940 word corpus (96% of original 17798082, drops 559142)\n",
      "2017-12-14 23:41:23,813 : INFO : deleting the raw counts dictionary of 123504 items\n",
      "2017-12-14 23:41:23,818 : INFO : sample=0.001 downsamples 48 most-common words\n",
      "2017-12-14 23:41:23,819 : INFO : downsampling leaves estimated 12749658 word corpus (74.0% of prior 17238940)\n",
      "2017-12-14 23:41:23,820 : INFO : estimated required memory for 16490 words and 300 dimensions: 47821000 bytes\n",
      "2017-12-14 23:41:23,902 : INFO : resetting layer weights\n",
      "2017-12-14 23:41:24,134 : INFO : training model with 4 workers on 16490 vocabulary and 300 features, using sg=0 hs=0 sample=0.001 negative=5 window=10\n",
      "2017-12-14 23:41:25,154 : INFO : PROGRESS: at 1.39% examples, 875247 words/s, in_qsize 7, out_qsize 1\n",
      "2017-12-14 23:41:26,156 : INFO : PROGRESS: at 2.55% examples, 802055 words/s, in_qsize 7, out_qsize 0\n",
      "2017-12-14 23:41:27,164 : INFO : PROGRESS: at 4.09% examples, 856364 words/s, in_qsize 7, out_qsize 0\n",
      "2017-12-14 23:41:28,170 : INFO : PROGRESS: at 5.64% examples, 887316 words/s, in_qsize 7, out_qsize 0\n",
      "2017-12-14 23:41:29,173 : INFO : PROGRESS: at 7.34% examples, 923540 words/s, in_qsize 7, out_qsize 0\n",
      "2017-12-14 23:41:30,175 : INFO : PROGRESS: at 8.57% examples, 901643 words/s, in_qsize 7, out_qsize 0\n",
      "2017-12-14 23:41:31,180 : INFO : PROGRESS: at 9.90% examples, 893773 words/s, in_qsize 7, out_qsize 0\n",
      "2017-12-14 23:41:32,187 : INFO : PROGRESS: at 11.46% examples, 906284 words/s, in_qsize 6, out_qsize 1\n",
      "2017-12-14 23:41:33,196 : INFO : PROGRESS: at 12.79% examples, 899258 words/s, in_qsize 8, out_qsize 1\n",
      "2017-12-14 23:41:34,200 : INFO : PROGRESS: at 14.20% examples, 899044 words/s, in_qsize 7, out_qsize 0\n",
      "2017-12-14 23:41:35,202 : INFO : PROGRESS: at 15.64% examples, 900526 words/s, in_qsize 7, out_qsize 0\n",
      "2017-12-14 23:41:36,221 : INFO : PROGRESS: at 17.20% examples, 907348 words/s, in_qsize 6, out_qsize 1\n",
      "2017-12-14 23:41:37,224 : INFO : PROGRESS: at 18.65% examples, 908231 words/s, in_qsize 8, out_qsize 0\n",
      "2017-12-14 23:41:38,223 : INFO : PROGRESS: at 20.19% examples, 913797 words/s, in_qsize 7, out_qsize 0\n",
      "2017-12-14 23:41:39,228 : INFO : PROGRESS: at 21.57% examples, 910860 words/s, in_qsize 7, out_qsize 0\n",
      "2017-12-14 23:41:40,242 : INFO : PROGRESS: at 23.05% examples, 911716 words/s, in_qsize 7, out_qsize 0\n",
      "2017-12-14 23:41:41,261 : INFO : PROGRESS: at 24.41% examples, 907544 words/s, in_qsize 8, out_qsize 0\n",
      "2017-12-14 23:41:42,263 : INFO : PROGRESS: at 25.64% examples, 900726 words/s, in_qsize 7, out_qsize 0\n",
      "2017-12-14 23:41:43,267 : INFO : PROGRESS: at 26.88% examples, 894171 words/s, in_qsize 7, out_qsize 0\n",
      "2017-12-14 23:41:44,272 : INFO : PROGRESS: at 27.96% examples, 883948 words/s, in_qsize 7, out_qsize 0\n",
      "2017-12-14 23:41:45,290 : INFO : PROGRESS: at 29.33% examples, 882988 words/s, in_qsize 7, out_qsize 0\n",
      "2017-12-14 23:41:46,294 : INFO : PROGRESS: at 30.80% examples, 885271 words/s, in_qsize 7, out_qsize 0\n",
      "2017-12-14 23:41:47,306 : INFO : PROGRESS: at 32.19% examples, 885505 words/s, in_qsize 8, out_qsize 0\n",
      "2017-12-14 23:41:48,307 : INFO : PROGRESS: at 33.72% examples, 889042 words/s, in_qsize 7, out_qsize 0\n",
      "2017-12-14 23:41:49,322 : INFO : PROGRESS: at 35.22% examples, 891262 words/s, in_qsize 6, out_qsize 1\n",
      "2017-12-14 23:41:50,326 : INFO : PROGRESS: at 36.72% examples, 893679 words/s, in_qsize 7, out_qsize 0\n",
      "2017-12-14 23:41:51,328 : INFO : PROGRESS: at 38.30% examples, 897831 words/s, in_qsize 6, out_qsize 1\n",
      "2017-12-14 23:41:52,340 : INFO : PROGRESS: at 39.89% examples, 901600 words/s, in_qsize 7, out_qsize 0\n",
      "2017-12-14 23:41:53,343 : INFO : PROGRESS: at 41.38% examples, 903180 words/s, in_qsize 7, out_qsize 0\n",
      "2017-12-14 23:41:54,345 : INFO : PROGRESS: at 42.99% examples, 906877 words/s, in_qsize 7, out_qsize 0\n",
      "2017-12-14 23:41:55,350 : INFO : PROGRESS: at 44.63% examples, 910936 words/s, in_qsize 7, out_qsize 0\n",
      "2017-12-14 23:41:56,354 : INFO : PROGRESS: at 46.20% examples, 913341 words/s, in_qsize 7, out_qsize 0\n",
      "2017-12-14 23:41:57,364 : INFO : PROGRESS: at 47.79% examples, 916135 words/s, in_qsize 8, out_qsize 0\n",
      "2017-12-14 23:41:58,370 : INFO : PROGRESS: at 49.38% examples, 918871 words/s, in_qsize 7, out_qsize 0\n",
      "2017-12-14 23:41:59,384 : INFO : PROGRESS: at 51.00% examples, 921859 words/s, in_qsize 7, out_qsize 0\n",
      "2017-12-14 23:42:00,394 : INFO : PROGRESS: at 52.63% examples, 925159 words/s, in_qsize 7, out_qsize 0\n",
      "2017-12-14 23:42:01,395 : INFO : PROGRESS: at 54.02% examples, 924138 words/s, in_qsize 7, out_qsize 0\n",
      "2017-12-14 23:42:02,398 : INFO : PROGRESS: at 55.48% examples, 924223 words/s, in_qsize 7, out_qsize 0\n",
      "2017-12-14 23:42:03,401 : INFO : PROGRESS: at 57.13% examples, 927385 words/s, in_qsize 7, out_qsize 0\n",
      "2017-12-14 23:42:04,403 : INFO : PROGRESS: at 58.81% examples, 930941 words/s, in_qsize 7, out_qsize 0\n",
      "2017-12-14 23:42:05,400 : INFO : PROGRESS: at 60.49% examples, 934480 words/s, in_qsize 7, out_qsize 0\n",
      "2017-12-14 23:42:06,404 : INFO : PROGRESS: at 62.20% examples, 937864 words/s, in_qsize 7, out_qsize 0\n",
      "2017-12-14 23:42:07,396 : INFO : PROGRESS: at 63.88% examples, 940609 words/s, in_qsize 7, out_qsize 0\n",
      "2017-12-14 23:42:08,421 : INFO : PROGRESS: at 65.51% examples, 942548 words/s, in_qsize 7, out_qsize 0\n",
      "2017-12-14 23:42:09,423 : INFO : PROGRESS: at 67.22% examples, 945665 words/s, in_qsize 7, out_qsize 0\n",
      "2017-12-14 23:42:10,426 : INFO : PROGRESS: at 68.92% examples, 948697 words/s, in_qsize 6, out_qsize 0\n",
      "2017-12-14 23:42:11,428 : INFO : PROGRESS: at 70.60% examples, 951261 words/s, in_qsize 8, out_qsize 0\n",
      "2017-12-14 23:42:12,431 : INFO : PROGRESS: at 72.22% examples, 953110 words/s, in_qsize 7, out_qsize 0\n",
      "2017-12-14 23:42:13,439 : INFO : PROGRESS: at 73.91% examples, 955538 words/s, in_qsize 5, out_qsize 2\n",
      "2017-12-14 23:42:14,449 : INFO : PROGRESS: at 75.62% examples, 958082 words/s, in_qsize 7, out_qsize 0\n",
      "2017-12-14 23:42:15,451 : INFO : PROGRESS: at 77.34% examples, 960693 words/s, in_qsize 7, out_qsize 0\n",
      "2017-12-14 23:42:16,452 : INFO : PROGRESS: at 79.05% examples, 963093 words/s, in_qsize 8, out_qsize 0\n",
      "2017-12-14 23:42:17,454 : INFO : PROGRESS: at 80.74% examples, 965387 words/s, in_qsize 7, out_qsize 0\n",
      "2017-12-14 23:42:18,457 : INFO : PROGRESS: at 82.45% examples, 967408 words/s, in_qsize 7, out_qsize 0\n",
      "2017-12-14 23:42:19,465 : INFO : PROGRESS: at 84.16% examples, 969310 words/s, in_qsize 7, out_qsize 0\n",
      "2017-12-14 23:42:20,469 : INFO : PROGRESS: at 85.85% examples, 971207 words/s, in_qsize 7, out_qsize 0\n",
      "2017-12-14 23:42:21,473 : INFO : PROGRESS: at 87.57% examples, 973137 words/s, in_qsize 8, out_qsize 0\n",
      "2017-12-14 23:42:22,468 : INFO : PROGRESS: at 89.26% examples, 974949 words/s, in_qsize 7, out_qsize 0\n",
      "2017-12-14 23:42:23,474 : INFO : PROGRESS: at 90.92% examples, 976473 words/s, in_qsize 7, out_qsize 0\n",
      "2017-12-14 23:42:24,475 : INFO : PROGRESS: at 92.60% examples, 978165 words/s, in_qsize 7, out_qsize 0\n",
      "2017-12-14 23:42:25,489 : INFO : PROGRESS: at 94.30% examples, 979726 words/s, in_qsize 7, out_qsize 0\n",
      "2017-12-14 23:42:26,496 : INFO : PROGRESS: at 96.04% examples, 981674 words/s, in_qsize 7, out_qsize 0\n",
      "2017-12-14 23:42:27,496 : INFO : PROGRESS: at 97.74% examples, 983326 words/s, in_qsize 7, out_qsize 0\n",
      "2017-12-14 23:42:28,504 : INFO : PROGRESS: at 99.44% examples, 984704 words/s, in_qsize 7, out_qsize 0\n",
      "2017-12-14 23:42:28,824 : INFO : worker thread finished; awaiting finish of 3 more threads\n",
      "2017-12-14 23:42:28,835 : INFO : worker thread finished; awaiting finish of 2 more threads\n",
      "2017-12-14 23:42:28,839 : INFO : worker thread finished; awaiting finish of 1 more threads\n",
      "2017-12-14 23:42:28,844 : INFO : worker thread finished; awaiting finish of 0 more threads\n",
      "2017-12-14 23:42:28,845 : INFO : training on 88990410 raw words (63742584 effective words) took 64.7s, 985134 effective words/s\n",
      "2017-12-14 23:42:28,846 : INFO : precomputing L2-norms of word weight vectors\n",
      "2017-12-14 23:42:28,988 : INFO : saving Word2Vec object under 300features_40minwords_10context, separately None\n",
      "2017-12-14 23:42:28,989 : INFO : not storing attribute syn0norm\n",
      "2017-12-14 23:42:28,991 : INFO : not storing attribute cum_table\n",
      "2017-12-14 23:42:36,903 : INFO : saved 300features_40minwords_10context\n"
     ]
    }
   ],
   "source": [
    "# Import the built-in logging module and configure it so that Word2Vec \n",
    "# creates nice output messages\n",
    "import logging\n",
    "logging.basicConfig(format='%(asctime)s : %(levelname)s : %(message)s',\\\n",
    "    level=logging.INFO)\n",
    "\n",
    "# Set values for various parameters\n",
    "num_features = 300    # Word vector dimensionality                      \n",
    "min_word_count = 40   # Minimum word count                        \n",
    "num_workers = 4       # Number of threads to run in parallel\n",
    "context = 10          # Context window size                                                                                    \n",
    "downsampling = 1e-3   # Downsample setting for frequent words\n",
    "\n",
    "# Initialize and train the model (this will take some time)\n",
    "from gensim.models import word2vec\n",
    "print(\"Training model...\")\n",
    "model = word2vec.Word2Vec(sentences, workers=num_workers, \\\n",
    "            size=num_features, min_count = min_word_count, \\\n",
    "            window = context, sample = downsampling)\n",
    "\n",
    "# If you don't plan to train the model any further, calling \n",
    "# init_sims will make the model much more memory-efficient.\n",
    "model.init_sims(replace=True)\n",
    "\n",
    "# It can be helpful to create a meaningful model name and \n",
    "# save the model for later use. You can load it later using Word2Vec.load()\n",
    "model_name = \"300features_40minwords_10context\"\n",
    "model.save(model_name)"
   ]
  },
  {
   "cell_type": "code",
   "execution_count": 6,
   "metadata": {
    "collapsed": false
   },
   "outputs": [
    {
     "data": {
      "text/plain": [
       "'kitchen'"
      ]
     },
     "execution_count": 6,
     "metadata": {},
     "output_type": "execute_result"
    }
   ],
   "source": [
    "model.doesnt_match(\"man woman child kitchen\".split())"
   ]
  },
  {
   "cell_type": "code",
   "execution_count": 7,
   "metadata": {
    "collapsed": false
   },
   "outputs": [
    {
     "data": {
      "text/plain": [
       "'berlin'"
      ]
     },
     "execution_count": 7,
     "metadata": {},
     "output_type": "execute_result"
    }
   ],
   "source": [
    "model.doesnt_match(\"france england germany berlin\".split())"
   ]
  },
  {
   "cell_type": "code",
   "execution_count": 8,
   "metadata": {
    "collapsed": false
   },
   "outputs": [
    {
     "data": {
      "text/plain": [
       "'paris'"
      ]
     },
     "execution_count": 8,
     "metadata": {},
     "output_type": "execute_result"
    }
   ],
   "source": [
    "model.doesnt_match(\"paris berlin london austria\".split())"
   ]
  },
  {
   "cell_type": "code",
   "execution_count": 9,
   "metadata": {
    "collapsed": false
   },
   "outputs": [
    {
     "data": {
      "text/plain": [
       "[('woman', 0.618071973323822),\n",
       " ('lady', 0.5901620388031006),\n",
       " ('monk', 0.5454525947570801),\n",
       " ('lad', 0.5452227592468262),\n",
       " ('men', 0.537689745426178),\n",
       " ('guy', 0.5173097848892212),\n",
       " ('person', 0.5069013237953186),\n",
       " ('businessman', 0.506414532661438),\n",
       " ('millionaire', 0.5033103227615356),\n",
       " ('chap', 0.49126410484313965)]"
      ]
     },
     "execution_count": 9,
     "metadata": {},
     "output_type": "execute_result"
    }
   ],
   "source": [
    "model.most_similar(\"man\")"
   ]
  },
  {
   "cell_type": "code",
   "execution_count": null,
   "metadata": {
    "collapsed": true
   },
   "outputs": [],
   "source": []
  }
 ],
 "metadata": {
  "kernelspec": {
   "display_name": "Python 3",
   "language": "python",
   "name": "python3"
  },
  "language_info": {
   "codemirror_mode": {
    "name": "ipython",
    "version": 3
   },
   "file_extension": ".py",
   "mimetype": "text/x-python",
   "name": "python",
   "nbconvert_exporter": "python",
   "pygments_lexer": "ipython3",
   "version": "3.6.0"
  }
 },
 "nbformat": 4,
 "nbformat_minor": 2
}
